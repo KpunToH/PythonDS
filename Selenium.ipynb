{
 "cells": [
  {
   "cell_type": "code",
   "execution_count": 141,
   "metadata": {},
   "outputs": [],
   "source": [
    "import pymongo\n",
    "import pprint\n",
    "from pymongo import MongoClient\n",
    "from selenium import webdriver          #Основной элемент\n",
    "from selenium.webdriver.support.ui import Select   #Поле множественного выбора\n",
    "from selenium.webdriver.common.keys import Keys    #Клавиши клавиатуры\n",
    "from selenium.common.exceptions import NoSuchElementException #Отлов ошибки пустоты\n",
    "from selenium.webdriver.support.ui import WebDriverWait"
   ]
  },
  {
   "cell_type": "code",
   "execution_count": 14,
   "metadata": {},
   "outputs": [],
   "source": [
    "#Выбор браузера\n",
    "driver = webdriver.Firefox()"
   ]
  },
  {
   "cell_type": "markdown",
   "metadata": {},
   "source": [
    "### TASK1"
   ]
  },
  {
   "cell_type": "markdown",
   "metadata": {},
   "source": [
    "Написать программу, которая собирает входящие письма из своего или тестового почтового ящика и сложить данные о письмах в базу данных (от кого, дата отправки, тема письма, текст письма)"
   ]
  },
  {
   "cell_type": "code",
   "execution_count": 15,
   "metadata": {},
   "outputs": [],
   "source": [
    "#Открытие страницы\n",
    "driver.get(\"https://mail.ru\")"
   ]
  },
  {
   "cell_type": "code",
   "execution_count": 18,
   "metadata": {},
   "outputs": [],
   "source": [
    "#Ввод пароля\n",
    "assert \"Mail\" in driver.title\n",
    "login = driver.find_element_by_id(\"mailbox:login\").send_keys(\"selenium_test90\")\n",
    "password = driver.find_element_by_id(\"mailbox:password\").send_keys(\"^YHN^YHN6yhn6yhn\")\n",
    "button = driver.find_element_by_id(\"mailbox:submit\").click()"
   ]
  },
  {
   "cell_type": "code",
   "execution_count": 75,
   "metadata": {},
   "outputs": [
    {
     "data": {
      "text/plain": [
       "4"
      ]
     },
     "execution_count": 75,
     "metadata": {},
     "output_type": "execute_result"
    }
   ],
   "source": [
    "#Находим поле с полезным содержимым писем. Последнее найденное \"а\" - не письмо\n",
    "mails = driver.find_element_by_class_name(\"dataset__items\").find_elements_by_tag_name(\"a\")\n",
    "len(mails)"
   ]
  },
  {
   "cell_type": "code",
   "execution_count": 77,
   "metadata": {},
   "outputs": [],
   "source": [
    "#Подрубаем MongoDB и задаем коллекцию\n",
    "client = MongoClient()\n",
    "db = client.Mailru\n",
    "emails = db.emails"
   ]
  },
  {
   "cell_type": "code",
   "execution_count": 70,
   "metadata": {},
   "outputs": [
    {
     "data": {
      "text/plain": [
       "'email_id_1'"
      ]
     },
     "execution_count": 70,
     "metadata": {},
     "output_type": "execute_result"
    }
   ],
   "source": [
    "#Доп.защита от повторений\n",
    "emails.create_index([('email_id', pymongo.ASCENDING)], unique=True)"
   ]
  },
  {
   "cell_type": "code",
   "execution_count": 76,
   "metadata": {},
   "outputs": [
    {
     "name": "stdout",
     "output_type": "stream",
     "text": [
      "Время письма: Сегодня, 9:43, Отправитель: Команда Mail.ru <welcome@corp.mail.ru>, Тема письма: Узнайте о супервозможностях Почты Mail.ru, Предпросмотр: Здравствуйте Спасибо, что зарегистрировались в Почте Mail.ru Прочитайте это письмо, чтобы узнать о с\n",
      "Время письма: Сегодня, 9:43, Отправитель: Команда Почты Mail.ru <welcome@corp.mail.ru>, Тема письма: Mail.ru – больше, чем почта. Познакомьтесь с проектами Mail.ru Group, Предпросмотр: Здравствуйте, selenium! Mail.ru – ваш проводник в интернет. Узнайте больше о проектах Mail.ru Group.\n",
      "Время письма: Сегодня, 9:43, Отправитель: Команда Почты Mail.ru <welcome@corp.mail.ru>, Тема письма: Как воспользоваться почтой с мобильного?, Предпросмотр: Здравствуйте, selenium! Пользуйтесь Почтой с мобильного Почта всегда рядом, даже если вы далеко от к\n"
     ]
    }
   ],
   "source": [
    "#собираем данные из писем и кладем их в базу данных\n",
    "try:\n",
    "    for i in range(0,(len(mails)-1)):\n",
    "        sender = mails[i].find_element_by_class_name(\"ll-crpt\").get_attribute(\"title\")\n",
    "        theme = mails[i].find_element_by_class_name(\"ll-sj__normal\").text\n",
    "        time = mails[i].find_element_by_class_name(\"llc__item_date\").get_attribute(\"title\")\n",
    "        snippet = mails[i].find_element_by_class_name(\"ll-sp__normal\").text\n",
    "        print (f\"Время письма: {time}, Отправитель: {sender}, Тема письма: {theme}, Предпросмотр: {snippet}\")\n",
    "        email ={\"email_id\":mails[i].get_attribute(\"data-uidl-id\"),\n",
    "               \"time\":time,\n",
    "               \"sender\":sender,\n",
    "               \"theme\":theme,\n",
    "               \"snippet\":snippet}\n",
    "        emails.insert_one(email)\n",
    "except:\n",
    "    NoSuchElementException\n",
    "    pymongo.errors.DuplicateKeyError"
   ]
  },
  {
   "cell_type": "markdown",
   "metadata": {},
   "source": [
    "### Task 2"
   ]
  },
  {
   "cell_type": "markdown",
   "metadata": {},
   "source": [
    "Написать программу, которая собирает «Хиты продаж» с сайтов техники mvideo, onlinetrade и складывает данные в БД. Магазины можно выбрать свои. Главный критерий выбора: динамически загружаемые товары"
   ]
  },
  {
   "cell_type": "code",
   "execution_count": 189,
   "metadata": {},
   "outputs": [],
   "source": [
    "driver.get(\"https://www.onlinetrade.ru\")"
   ]
  },
  {
   "cell_type": "code",
   "execution_count": 190,
   "metadata": {},
   "outputs": [],
   "source": [
    "assert \"Интернет-магазин ОНЛАЙН ТРЕЙД.РУ\" in driver.title"
   ]
  },
  {
   "cell_type": "code",
   "execution_count": 191,
   "metadata": {},
   "outputs": [],
   "source": [
    "#Ищем хиты продаж среди одинаковых заголовков. Находим ноду, содержащую заголовок и ищем ее родителя, в котором уже будут и нужные товары\n",
    "headers = driver.find_elements_by_class_name(\"indexGoods__headers\")\n",
    "for i in range(0, len(headers)):\n",
    "    if headers[i].text == \"Хиты продаж\":\n",
    "        header_hit = headers[i]\n",
    "top_hit = header_hit.find_element_by_xpath(\"..\")"
   ]
  },
  {
   "cell_type": "code",
   "execution_count": 192,
   "metadata": {},
   "outputs": [],
   "source": [
    "#Все объявления среди хитов продаж\n",
    "item = top_hit.find_elements_by_class_name(\"indexGoods__item\")"
   ]
  },
  {
   "cell_type": "code",
   "execution_count": 193,
   "metadata": {},
   "outputs": [],
   "source": [
    "db = client.onlinetrade\n",
    "top_hits = db.top_hits"
   ]
  },
  {
   "cell_type": "code",
   "execution_count": 194,
   "metadata": {},
   "outputs": [
    {
     "name": "stdout",
     "output_type": "stream",
     "text": [
      "Фильтр для воды под мойку АКВАФОР DWM-101S Морион, обратный осмос с минерализатором https://www.onlinetrade.ru/catalogue/filtry_dlya_vody_pod_moyku-c240/akvafor/filtr_dlya_vody_pod_moyku_akvafor_dwm_101s_morion_obratnyy_osmos_s_mineralizatorom_4600987006123-140085.html 8 690 ₽ \n",
      "Фонарь ЯРКИЙ ЛУЧ V-700 \"ВЕЛОФАРА-USB\" CREE XM-L2 700лм, IPX4, питание от USB https://www.onlinetrade.ru/catalogue/fary_i_fonari_dlya_velosipedov-c3286/yarkiy_luch/fonar_yarkiy_luch_v_700_velofara_usb_cree_xm_l2_700lm_ipx4_pitanie_ot_usb_4606400106043-1719954.html 2 290 ₽ \n",
      "Терка многофункциональная роторная DEKOK UKA-1215 https://www.onlinetrade.ru/catalogue/izmelchiteli_i_rezki-c382/dekok/terka_mnogofunktsionalnaya_rotornaya_dekok_uka_1215-214226.html 1 300 ₽\n",
      "980 ₽ \n",
      "Радионяня Motorola MBP161 Timer белый, B102MBP161TRU https://www.onlinetrade.ru/catalogue/radio_i_videonyani-c518/motorola/radionyanya_motorola_mbp161_timer_belyy_b102mbp161tru-262635.html 2 800 ₽\n",
      "2 790 ₽ \n",
      "Умная Wi-Fi розетка TP-LINK HS100 https://www.onlinetrade.ru/catalogue/umnye_rozetki_gsm_wi_fi-c2080/tp_link/umnaya_wi_fi_rozetka_tp_link_hs100-515085.html 1 390 ₽ \n",
      "Биотуалет торфяной компостирующий Piteco 506 https://www.onlinetrade.ru/catalogue/biotualety-c1954/piteco/biotualet_torfyanoy_kompostiruyushchiy_piteco_506-624323.html 5 690 ₽ \n",
      "Корпус Cooler Master MasterBox 5 Lite black ATX MCW-L5S3-KANN-01 Window https://www.onlinetrade.ru/catalogue/kompyuternye_korpusa-c1323/cooler_master/korpus_cooler_master_masterbox_5_lite_black_atx_mcw_l5s3_kann_01_window-1004141.html  \n",
      "Транспондер T-Pass https://www.onlinetrade.ru/catalogue/transpondery_dlya_platnykh_dorog-c4212/avtodor_platnye_dorogi/transponder_t_pass_kapsch-1101152.html  \n",
      "Соль SETRA розовая гималайская мелкая, 500 гр. https://www.onlinetrade.ru/catalogue/sol-c4779/setra/sol_setra_rozovaya_gimalayskaya_melkaya_500_gr_007-1366546.html  \n",
      "Солнцезащитный крем для младенцев и детей WELEDA SPF 30, 150 мл https://www.onlinetrade.ru/catalogue/solntsezashchitnye_sredstva-c1904/weleda/solntsezashchitnyy_krem_dlya_mladentsev_i_detey_weleda_spf_30_150_ml_7555_weleda-1409515.html  \n",
      "Объектив Sigma AF 35mm F/1.4 DG HSM Art Sony E https://www.onlinetrade.ru/catalogue/obektivy_dlya_fotokamer-c36/sigma/obektiv_sigma_af_35mm_f_1.4_dg_hsm_art_sony_e_340965-1470332.html  \n",
      "Массажер для шеи и плеч NAIPO MGS-150D https://www.onlinetrade.ru/catalogue/massazhery_dlya_shei_i_plech-c1683/naipo/massazher_dlya_shei_i_plech_naipo_mgs_150d-1591891.html  \n"
     ]
    }
   ],
   "source": [
    "for i in range(0,len(item),2):\n",
    "    name = item[i].find_element_by_class_name(\"indexGoods__item__descriptionCover\").find_element_by_tag_name(\"a\").get_attribute(\"title\").replace(\"Подробнее о «\",\"\").replace(\"»\",\"\")\n",
    "    link = item[i].find_element_by_class_name(\"indexGoods__item__descriptionCover\").find_element_by_tag_name(\"a\").get_attribute(\"href\")\n",
    "    price = item[i].find_element_by_class_name(\"indexGoods__item__price\").text \n",
    "    print(name, link, price, discount)\n",
    "    top_hit ={\"name\":name,\n",
    "               \"link\":link,\n",
    "               \"price\":price}\n",
    "    top_hits.insert_one(top_hit)"
   ]
  }
 ],
 "metadata": {
  "kernelspec": {
   "display_name": "Python 3",
   "language": "python",
   "name": "python3"
  },
  "language_info": {
   "codemirror_mode": {
    "name": "ipython",
    "version": 3
   },
   "file_extension": ".py",
   "mimetype": "text/x-python",
   "name": "python",
   "nbconvert_exporter": "python",
   "pygments_lexer": "ipython3",
   "version": "3.7.1"
  }
 },
 "nbformat": 4,
 "nbformat_minor": 2
}
