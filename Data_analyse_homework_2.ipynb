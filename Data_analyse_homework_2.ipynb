{
 "cells": [
  {
   "cell_type": "code",
   "execution_count": 1,
   "metadata": {},
   "outputs": [],
   "source": [
    "import itertools\n",
    "import numpy as np\n",
    "import matplotlib.pyplot as plt\n",
    "\n",
    "plt.style.use('fivethirtyeight')\n",
    "import pandas as pd\n",
    "import statsmodels.api as sm\n",
    "import matplotlib\n",
    "\n",
    "matplotlib.rcParams['axes.labelsize'] = 14\n",
    "matplotlib.rcParams['xtick.labelsize'] = 12\n",
    "matplotlib.rcParams['ytick.labelsize'] = 12\n",
    "matplotlib.rcParams['text.color'] = 'k'\n",
    "\n"
   ]
  },
  {
   "cell_type": "code",
   "execution_count": 4,
   "metadata": {},
   "outputs": [],
   "source": [
    "orders = pd.read_csv(\"orders_20190822.csv\",sep=\";\",decimal=\",\",parse_dates=[\"o_date\"])"
   ]
  },
  {
   "cell_type": "code",
   "execution_count": 11,
   "metadata": {
    "scrolled": true
   },
   "outputs": [
    {
     "name": "stdout",
     "output_type": "stream",
     "text": [
      "<class 'pandas.core.frame.DataFrame'>\n",
      "RangeIndex: 2002804 entries, 0 to 2002803\n",
      "Data columns (total 4 columns):\n",
      "id_o       int64\n",
      "user_id    int64\n",
      "price      float64\n",
      "o_date     datetime64[ns]\n",
      "dtypes: datetime64[ns](1), float64(1), int64(2)\n",
      "memory usage: 61.1 MB\n"
     ]
    }
   ],
   "source": [
    "orders.info()"
   ]
  },
  {
   "cell_type": "code",
   "execution_count": 68,
   "metadata": {},
   "outputs": [
    {
     "data": {
      "text/plain": [
       "Timestamp('2017-12-31 00:00:00')"
      ]
     },
     "execution_count": 68,
     "metadata": {},
     "output_type": "execute_result"
    }
   ],
   "source": [
    "orders[\"o_date\"].max()"
   ]
  },
  {
   "cell_type": "code",
   "execution_count": 25,
   "metadata": {},
   "outputs": [
    {
     "data": {
      "text/html": [
       "<div>\n",
       "<style scoped>\n",
       "    .dataframe tbody tr th:only-of-type {\n",
       "        vertical-align: middle;\n",
       "    }\n",
       "\n",
       "    .dataframe tbody tr th {\n",
       "        vertical-align: top;\n",
       "    }\n",
       "\n",
       "    .dataframe thead th {\n",
       "        text-align: right;\n",
       "    }\n",
       "</style>\n",
       "<table border=\"1\" class=\"dataframe\">\n",
       "  <thead>\n",
       "    <tr style=\"text-align: right;\">\n",
       "      <th></th>\n",
       "      <th>price</th>\n",
       "      <th>o_date</th>\n",
       "    </tr>\n",
       "  </thead>\n",
       "  <tbody>\n",
       "    <tr>\n",
       "      <th>0</th>\n",
       "      <td>539.0</td>\n",
       "      <td>2016-01-01</td>\n",
       "    </tr>\n",
       "    <tr>\n",
       "      <th>1</th>\n",
       "      <td>153.3</td>\n",
       "      <td>2016-01-01</td>\n",
       "    </tr>\n",
       "    <tr>\n",
       "      <th>2</th>\n",
       "      <td>55.3</td>\n",
       "      <td>2016-01-01</td>\n",
       "    </tr>\n",
       "    <tr>\n",
       "      <th>3</th>\n",
       "      <td>752.5</td>\n",
       "      <td>2016-01-01</td>\n",
       "    </tr>\n",
       "    <tr>\n",
       "      <th>4</th>\n",
       "      <td>4410.0</td>\n",
       "      <td>2016-01-01</td>\n",
       "    </tr>\n",
       "  </tbody>\n",
       "</table>\n",
       "</div>"
      ],
      "text/plain": [
       "    price     o_date\n",
       "0   539.0 2016-01-01\n",
       "1   153.3 2016-01-01\n",
       "2    55.3 2016-01-01\n",
       "3   752.5 2016-01-01\n",
       "4  4410.0 2016-01-01"
      ]
     },
     "execution_count": 25,
     "metadata": {},
     "output_type": "execute_result"
    }
   ],
   "source": [
    "price_date = orders[[\"price\",\"o_date\"]]\n",
    "price_date.head()"
   ]
  },
  {
   "cell_type": "code",
   "execution_count": 26,
   "metadata": {},
   "outputs": [],
   "source": [
    "price_date= price_date.set_index('o_date')"
   ]
  },
  {
   "cell_type": "code",
   "execution_count": 27,
   "metadata": {},
   "outputs": [
    {
     "data": {
      "text/html": [
       "<div>\n",
       "<style scoped>\n",
       "    .dataframe tbody tr th:only-of-type {\n",
       "        vertical-align: middle;\n",
       "    }\n",
       "\n",
       "    .dataframe tbody tr th {\n",
       "        vertical-align: top;\n",
       "    }\n",
       "\n",
       "    .dataframe thead th {\n",
       "        text-align: right;\n",
       "    }\n",
       "</style>\n",
       "<table border=\"1\" class=\"dataframe\">\n",
       "  <thead>\n",
       "    <tr style=\"text-align: right;\">\n",
       "      <th></th>\n",
       "      <th>price</th>\n",
       "    </tr>\n",
       "    <tr>\n",
       "      <th>o_date</th>\n",
       "      <th></th>\n",
       "    </tr>\n",
       "  </thead>\n",
       "  <tbody>\n",
       "    <tr>\n",
       "      <th>2016-01-01</th>\n",
       "      <td>539.0</td>\n",
       "    </tr>\n",
       "    <tr>\n",
       "      <th>2016-01-01</th>\n",
       "      <td>153.3</td>\n",
       "    </tr>\n",
       "    <tr>\n",
       "      <th>2016-01-01</th>\n",
       "      <td>55.3</td>\n",
       "    </tr>\n",
       "    <tr>\n",
       "      <th>2016-01-01</th>\n",
       "      <td>752.5</td>\n",
       "    </tr>\n",
       "    <tr>\n",
       "      <th>2016-01-01</th>\n",
       "      <td>4410.0</td>\n",
       "    </tr>\n",
       "  </tbody>\n",
       "</table>\n",
       "</div>"
      ],
      "text/plain": [
       "             price\n",
       "o_date            \n",
       "2016-01-01   539.0\n",
       "2016-01-01   153.3\n",
       "2016-01-01    55.3\n",
       "2016-01-01   752.5\n",
       "2016-01-01  4410.0"
      ]
     },
     "execution_count": 27,
     "metadata": {},
     "output_type": "execute_result"
    }
   ],
   "source": [
    "price_date.head()"
   ]
  },
  {
   "cell_type": "code",
   "execution_count": 51,
   "metadata": {},
   "outputs": [],
   "source": [
    "y = price_date['price'].resample('MS').sum().astype(dtype=\"int64\")"
   ]
  },
  {
   "cell_type": "code",
   "execution_count": 52,
   "metadata": {},
   "outputs": [
    {
     "data": {
      "text/plain": [
       "o_date\n",
       "2016-01-01    112520331\n",
       "2016-02-01    100652262\n",
       "2016-03-01    125415802\n",
       "2016-04-01    135366050\n",
       "2016-05-01    130065409\n",
       "Freq: MS, Name: price, dtype: int64"
      ]
     },
     "execution_count": 52,
     "metadata": {},
     "output_type": "execute_result"
    }
   ],
   "source": [
    "y.head()"
   ]
  },
  {
   "cell_type": "code",
   "execution_count": 57,
   "metadata": {},
   "outputs": [],
   "source": [
    "p = d = q = range(0, 2)\n",
    "pdq = list(itertools.product(p, d, q))\n",
    "seasonal_pdq = [(x[0], x[1], x[2], 12) for x in list(itertools.product(p, d, q))]"
   ]
  },
  {
   "cell_type": "code",
   "execution_count": 58,
   "metadata": {},
   "outputs": [
    {
     "name": "stderr",
     "output_type": "stream",
     "text": [
      "D:\\Anaconda3\\lib\\site-packages\\statsmodels\\tsa\\statespace\\representation.py:375: FutureWarning: Using a non-tuple sequence for multidimensional indexing is deprecated; use `arr[tuple(seq)]` instead of `arr[seq]`. In the future this will be interpreted as an array index, `arr[np.array(seq)]`, which will result either in an error or a different result.\n",
      "  return matrix[[slice(None)]*(matrix.ndim-1) + [0]]\n"
     ]
    },
    {
     "name": "stdout",
     "output_type": "stream",
     "text": [
      "ARIMA(0, 0, 0)x(0, 0, 0, 12)12 - AIC:946.6453180443624\n",
      "ARIMA(0, 0, 0)x(0, 1, 0, 12)12 - AIC:436.38265233093637\n",
      "ARIMA(0, 0, 0)x(1, 0, 0, 12)12 - AIC:444.4756244538871\n",
      "ARIMA(0, 0, 1)x(0, 0, 0, 12)12 - AIC:893.5468595479182\n",
      "ARIMA(0, 0, 1)x(0, 1, 0, 12)12 - AIC:389.4518901237595\n",
      "ARIMA(0, 0, 1)x(1, 0, 0, 12)12 - AIC:487.9810410841032\n",
      "ARIMA(0, 1, 0)x(0, 0, 0, 12)12 - AIC:811.3986492226344\n",
      "ARIMA(0, 1, 0)x(0, 1, 0, 12)12 - AIC:369.7587321193125\n",
      "ARIMA(0, 1, 0)x(1, 0, 0, 12)12 - AIC:402.85277597880133\n",
      "ARIMA(0, 1, 1)x(0, 0, 0, 12)12 - AIC:775.7670182700768\n",
      "ARIMA(0, 1, 1)x(0, 1, 0, 12)12 - AIC:332.08440830134464\n",
      "ARIMA(0, 1, 1)x(1, 0, 0, 12)12 - AIC:406.33572628832286\n",
      "ARIMA(1, 0, 0)x(0, 0, 0, 12)12 - AIC:845.5540740887171\n",
      "ARIMA(1, 0, 0)x(0, 1, 0, 12)12 - AIC:402.91981595984214\n",
      "ARIMA(1, 0, 0)x(1, 0, 0, 12)12 - AIC:404.20870564074335\n",
      "ARIMA(1, 0, 1)x(0, 0, 0, 12)12 - AIC:811.3308615221215\n",
      "ARIMA(1, 0, 1)x(0, 1, 0, 12)12 - AIC:367.88048876997857\n",
      "ARIMA(1, 0, 1)x(1, 0, 0, 12)12 - AIC:406.3358374348389\n",
      "ARIMA(1, 1, 0)x(0, 0, 0, 12)12 - AIC:812.5662301287127\n",
      "ARIMA(1, 1, 0)x(0, 1, 0, 12)12 - AIC:365.3613531491423\n",
      "ARIMA(1, 1, 0)x(1, 0, 0, 12)12 - AIC:368.9049300552842\n",
      "ARIMA(1, 1, 1)x(0, 0, 0, 12)12 - AIC:777.3769938480986\n",
      "ARIMA(1, 1, 1)x(0, 1, 0, 12)12 - AIC:335.2928064792232\n",
      "ARIMA(1, 1, 1)x(1, 0, 0, 12)12 - AIC:371.2663435731739\n"
     ]
    }
   ],
   "source": [
    "for param in pdq:\n",
    "    for param_seasonal in seasonal_pdq:\n",
    "        try:\n",
    "            mod = sm.tsa.statespace.SARIMAX(y,\n",
    "                                            order=param,\n",
    "                                            seasonal_order=param_seasonal,\n",
    "                                            enforce_stationarity=False,\n",
    "                                            enforce_invertibility=False)\n",
    "\n",
    "            results = mod.fit()\n",
    "\n",
    "            print('ARIMA{}x{}12 - AIC:{}'.format(param, param_seasonal, results.aic))\n",
    "        except:\n",
    "            continue"
   ]
  },
  {
   "cell_type": "code",
   "execution_count": null,
   "metadata": {},
   "outputs": [],
   "source": [
    "ARIMA(0, 1, 1)x(0, 1, 0, 12)12 - AIC:332.08440830134464"
   ]
  },
  {
   "cell_type": "code",
   "execution_count": 60,
   "metadata": {},
   "outputs": [
    {
     "name": "stdout",
     "output_type": "stream",
     "text": [
      "==============================================================================\n",
      "                 coef    std err          z      P>|z|      [0.025      0.975]\n",
      "------------------------------------------------------------------------------\n",
      "ma.L1         -0.3095      0.158     -1.960      0.050      -0.619    3.84e-05\n",
      "sigma2      1.959e+14   1.45e-16   1.35e+30      0.000    1.96e+14    1.96e+14\n",
      "==============================================================================\n"
     ]
    }
   ],
   "source": [
    "mod = sm.tsa.statespace.SARIMAX(y,\n",
    "                                order=(0, 1, 1),\n",
    "                                seasonal_order=(0, 1, 0, 12),\n",
    "                                enforce_stationarity=False,\n",
    "                                enforce_invertibility=False)\n",
    "\n",
    "results = mod.fit()\n",
    "\n",
    "print(results.summary().tables[1])"
   ]
  },
  {
   "cell_type": "code",
   "execution_count": 77,
   "metadata": {
    "scrolled": false
   },
   "outputs": [
    {
     "data": {
      "text/plain": [
       "DatetimeIndex(['2018-01-01', '2018-02-01', '2018-03-01', '2018-04-01',\n",
       "               '2018-05-01', '2018-06-01', '2018-07-01', '2018-08-01',\n",
       "               '2018-09-01', '2018-10-01', '2018-11-01', '2018-12-01'],\n",
       "              dtype='datetime64[ns]', freq='MS')"
      ]
     },
     "execution_count": 77,
     "metadata": {},
     "output_type": "execute_result"
    }
   ],
   "source": [
    "pred.predicted_mean.head(10)\n",
    "pred_uc = results.get_forecast(steps=12)\n",
    "forecast_result = pred_uc.predicted_mean.astype(dtype=\"int64\")\n",
    "forecast_result.index"
   ]
  },
  {
   "cell_type": "code",
   "execution_count": null,
   "metadata": {},
   "outputs": [],
   "source": []
  },
  {
   "cell_type": "code",
   "execution_count": null,
   "metadata": {},
   "outputs": [],
   "source": [
    "1801 256798898\n",
    "1802 232640416\n",
    "1803 267994924\n",
    "1804 262849522\n",
    "1805 276933049\n",
    "1806 251486085\n",
    "1807 250559778\n",
    "1808 261724749\n",
    "1809 276675505\n",
    "1810 287647539\n",
    "1811 363102609\n",
    "1812 422386052"
   ]
  },
  {
   "cell_type": "code",
   "execution_count": 79,
   "metadata": {},
   "outputs": [
    {
     "data": {
      "text/plain": [
       "2018-01-01    256798898\n",
       "2018-02-01    232640416\n",
       "2018-03-01    267994924\n",
       "2018-04-01    262849522\n",
       "2018-05-01    276933049\n",
       "2018-06-01    251486085\n",
       "2018-07-01    250559778\n",
       "2018-08-01    261724749\n",
       "2018-09-01    276675505\n",
       "2018-10-01    287647539\n",
       "2018-11-01    363102609\n",
       "2018-12-01    422386052\n",
       "dtype: int64"
      ]
     },
     "execution_count": 79,
     "metadata": {},
     "output_type": "execute_result"
    }
   ],
   "source": [
    "true_sales = pd.Series([256798898, 232640416, 267994924, 262849522, 276933049,251486085,250559778,261724749,276675505,287647539,363102609,422386052], index =['2018-01-01', '2018-02-01', '2018-03-01', '2018-04-01',\n",
    "               '2018-05-01', '2018-06-01', '2018-07-01', '2018-08-01',\n",
    "               '2018-09-01', '2018-10-01', '2018-11-01', '2018-12-01'])\n",
    "true_sales"
   ]
  },
  {
   "cell_type": "code",
   "execution_count": 94,
   "metadata": {},
   "outputs": [
    {
     "data": {
      "text/html": [
       "<div>\n",
       "<style scoped>\n",
       "    .dataframe tbody tr th:only-of-type {\n",
       "        vertical-align: middle;\n",
       "    }\n",
       "\n",
       "    .dataframe tbody tr th {\n",
       "        vertical-align: top;\n",
       "    }\n",
       "\n",
       "    .dataframe thead th {\n",
       "        text-align: right;\n",
       "    }\n",
       "</style>\n",
       "<table border=\"1\" class=\"dataframe\">\n",
       "  <thead>\n",
       "    <tr style=\"text-align: right;\">\n",
       "      <th></th>\n",
       "      <th>Предсказанное</th>\n",
       "      <th>Реальное</th>\n",
       "    </tr>\n",
       "  </thead>\n",
       "  <tbody>\n",
       "    <tr>\n",
       "      <th>2018-01-01</th>\n",
       "      <td>288716147</td>\n",
       "      <td>256798898</td>\n",
       "    </tr>\n",
       "    <tr>\n",
       "      <th>2018-02-01</th>\n",
       "      <td>263969693</td>\n",
       "      <td>232640416</td>\n",
       "    </tr>\n",
       "    <tr>\n",
       "      <th>2018-03-01</th>\n",
       "      <td>299648666</td>\n",
       "      <td>267994924</td>\n",
       "    </tr>\n",
       "    <tr>\n",
       "      <th>2018-04-01</th>\n",
       "      <td>287354680</td>\n",
       "      <td>262849522</td>\n",
       "    </tr>\n",
       "    <tr>\n",
       "      <th>2018-05-01</th>\n",
       "      <td>321926560</td>\n",
       "      <td>276933049</td>\n",
       "    </tr>\n",
       "    <tr>\n",
       "      <th>2018-06-01</th>\n",
       "      <td>299554600</td>\n",
       "      <td>251486085</td>\n",
       "    </tr>\n",
       "    <tr>\n",
       "      <th>2018-07-01</th>\n",
       "      <td>303466477</td>\n",
       "      <td>250559778</td>\n",
       "    </tr>\n",
       "    <tr>\n",
       "      <th>2018-08-01</th>\n",
       "      <td>308583062</td>\n",
       "      <td>261724749</td>\n",
       "    </tr>\n",
       "    <tr>\n",
       "      <th>2018-09-01</th>\n",
       "      <td>310080412</td>\n",
       "      <td>276675505</td>\n",
       "    </tr>\n",
       "    <tr>\n",
       "      <th>2018-10-01</th>\n",
       "      <td>353460108</td>\n",
       "      <td>287647539</td>\n",
       "    </tr>\n",
       "    <tr>\n",
       "      <th>2018-11-01</th>\n",
       "      <td>397246272</td>\n",
       "      <td>363102609</td>\n",
       "    </tr>\n",
       "    <tr>\n",
       "      <th>2018-12-01</th>\n",
       "      <td>415611155</td>\n",
       "      <td>422386052</td>\n",
       "    </tr>\n",
       "  </tbody>\n",
       "</table>\n",
       "</div>"
      ],
      "text/plain": [
       "            Предсказанное   Реальное\n",
       "2018-01-01      288716147  256798898\n",
       "2018-02-01      263969693  232640416\n",
       "2018-03-01      299648666  267994924\n",
       "2018-04-01      287354680  262849522\n",
       "2018-05-01      321926560  276933049\n",
       "2018-06-01      299554600  251486085\n",
       "2018-07-01      303466477  250559778\n",
       "2018-08-01      308583062  261724749\n",
       "2018-09-01      310080412  276675505\n",
       "2018-10-01      353460108  287647539\n",
       "2018-11-01      397246272  363102609\n",
       "2018-12-01      415611155  422386052"
      ]
     },
     "execution_count": 94,
     "metadata": {},
     "output_type": "execute_result"
    }
   ],
   "source": [
    "forecast_comparison = pd.concat([forecast_result, true_sales], axis=1)\n",
    "forecast_comparison=forecast_comparison.rename(columns={0: \"Предсказанное\", 1: \"Реальное\"})\n",
    "forecast_comparison"
   ]
  }
 ],
 "metadata": {
  "kernelspec": {
   "display_name": "Python 3",
   "language": "python",
   "name": "python3"
  },
  "language_info": {
   "codemirror_mode": {
    "name": "ipython",
    "version": 3
   },
   "file_extension": ".py",
   "mimetype": "text/x-python",
   "name": "python",
   "nbconvert_exporter": "python",
   "pygments_lexer": "ipython3",
   "version": "3.7.3"
  }
 },
 "nbformat": 4,
 "nbformat_minor": 2
}
