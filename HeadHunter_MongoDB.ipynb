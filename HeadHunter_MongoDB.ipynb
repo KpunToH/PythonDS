{
 "cells": [
  {
   "cell_type": "code",
   "execution_count": 168,
   "metadata": {},
   "outputs": [],
   "source": [
    "from bs4 import BeautifulSoup as bs\n",
    "import urllib.request\n",
    "import requests\n",
    "import pprint\n",
    "import pymongo \n",
    "import pprint"
   ]
  },
  {
   "cell_type": "code",
   "execution_count": 8,
   "metadata": {},
   "outputs": [
    {
     "name": "stdout",
     "output_type": "stream",
     "text": [
      "Пожалуйста, введите желаемый язык программирования на английском python\n"
     ]
    },
    {
     "data": {
      "text/plain": [
       "'programmer+python'"
      ]
     },
     "execution_count": 8,
     "metadata": {},
     "output_type": "execute_result"
    }
   ],
   "source": [
    "#Задаем желаемые языки программирования\n",
    "profession = \"programmer+\"+(input(\"Пожалуйста, введите желаемый язык программирования на английском \").lower())\n",
    "profession "
   ]
  },
  {
   "cell_type": "code",
   "execution_count": 6,
   "metadata": {},
   "outputs": [
    {
     "name": "stdout",
     "output_type": "stream",
     "text": [
      "Введите количество страниц, которое хотим спарсить 2\n"
     ]
    }
   ],
   "source": [
    "#Задаем колличество страниц поисковой выдачи. Отобразятся только те вакансии, в которых указана зарплата\n",
    "page = int(input(\"Введите количество страниц, которое хотим спарсить \"))"
   ]
  },
  {
   "cell_type": "code",
   "execution_count": 10,
   "metadata": {},
   "outputs": [
    {
     "name": "stdout",
     "output_type": "stream",
     "text": [
      "Введите колличество вакансий на 1 странице - 20, 50 или 100 20\n"
     ]
    }
   ],
   "source": [
    "#Задаем колличество вакансий на странице\n",
    "items_on_page = int(input(\"Введите колличество вакансий на 1 странице - 20, 50 или 100 \"))"
   ]
  },
  {
   "cell_type": "code",
   "execution_count": 61,
   "metadata": {
    "scrolled": true
   },
   "outputs": [
    {
     "name": "stdout",
     "output_type": "stream",
     "text": [
      "[['Senior Front-end Developer (JavaScript, React)', 200000, 200000, 'https://hh.ru/vacancy/32144172?query=programmer%20python'], ['Front-end Developer (JavaScript, React)', 150000, 150000, 'https://hh.ru/vacancy/32077832?query=programmer%20python'], ['Data engineer (ML-разработчик, python)', 100000, 140000, 'https://hh.ru/vacancy/32099770?query=programmer%20python'], ['Программист Python', 80000, 80000, 'https://hh.ru/vacancy/32271659?query=programmer%20python'], ['Python Web Developer', 200000, 300000, 'https://hh.ru/vacancy/32096105?query=programmer%20python'], ['Junior Data Developer (Python)', 100000, 140000, 'https://hh.ru/vacancy/32030586?query=programmer%20python'], ['Senior Back-End Developer (PHP)', 210000, 250000, 'https://hh.ru/vacancy/32108917?query=programmer%20python'], ['Python Developer', 160000, 250000, 'https://hh.ru/vacancy/32072763?query=programmer%20python'], ['Программист Python', 60000, 100000, 'https://hh.ru/vacancy/32260756?query=programmer%20python'], ['Разработчик Python', 160000, 200000, 'https://hh.ru/vacancy/31624245?query=programmer%20python'], ['Разработчик Python/Django + React.js', 145000, 255000, 'https://hh.ru/vacancy/31844761?query=programmer%20python'], ['Разработчик Python и SQL', 180000, 180000, 'https://hh.ru/vacancy/31929637?query=programmer%20python'], ['Backend python/Django разработчик', 120000, 200000, 'https://hh.ru/vacancy/32027484?query=programmer%20python'], ['C++ developer - Quantum', 180000, 180000, 'https://hh.ru/vacancy/32119889?query=programmer%20python'], ['Python/Django разработчик', 60000, 100000, 'https://hh.ru/vacancy/32158934?query=programmer%20python'], ['Программист Python (в Ригу)', 144000, 216000, 'https://hh.ru/vacancy/32079548?query=programmer%20python'], ['Senior Vue.js Front-end Developer', 180000, 230000, 'https://hh.ru/vacancy/32342494?query=programmer%20python'], ['Middle Vue.js Front-end Developer', 160000, 190000, 'https://hh.ru/vacancy/32075657?query=programmer%20python'], ['Ведущий Python разработчик', 150000, 250000, 'https://hh.ru/vacancy/32061372?query=programmer%20python'], ['Python Data Scientist', 150000, 150000, 'https://hh.ru/vacancy/32068519?query=programmer%20python'], ['Junior Python разработчик', 40000, 60000, 'https://hh.ru/vacancy/32118664?query=programmer%20python'], ['Senior Python developer (Cloud Services)', 180000, 230000, 'https://hh.ru/vacancy/32152220?query=programmer%20python'], ['Front-end разработчик (senior)', 180000, 180000, 'https://hh.ru/vacancy/32344311?query=programmer%20python'], ['Серверный разработчик С++ / Backend Developer C++ (middle/senior)', 170000, 170000, 'https://hh.ru/vacancy/32023564?query=programmer%20python'], ['Ведущий разработчик Python на платежную платформу', 200000, 200000, 'https://hh.ru/vacancy/32256640?query=programmer%20python'], ['Разработчик Python', 150000, 200000, 'https://hh.ru/vacancy/31566378?query=programmer%20python'], ['Python-разработчик', 100000, 100000, 'https://hh.ru/vacancy/32251802?query=programmer%20python'], ['Разработчик Python (Middle)', 100000, 170000, 'https://hh.ru/vacancy/30613214?query=programmer%20python'], ['Python Backend разработчик', 120000, 160000, 'https://hh.ru/vacancy/32346479?query=programmer%20python'], ['Full-stack разработчик (Python, JavaScript)', 100000, 200000, 'https://hh.ru/vacancy/29195763?query=programmer%20python'], ['Python developer (Библиотеки для автотестирования)', 256000, 256000, 'https://hh.ru/vacancy/30005963?query=programmer%20python'], ['Программист Python', 100000, 180000, 'https://hh.ru/vacancy/32139253?query=programmer%20python'], ['Python developer/ backend разработчик', 150000, 150000, 'https://hh.ru/vacancy/31895113?query=programmer%20python'], ['Python-разработчик', 130000, 130000, 'https://hh.ru/vacancy/31965654?query=programmer%20python'], ['C++ developer (embedded Linux)', 120000, 170000, 'https://hh.ru/vacancy/32235565?query=programmer%20python'], ['Python developer (Cloud Services)', 150000, 230000, 'https://hh.ru/vacancy/31952519?query=programmer%20python'], ['Senior Python Developer', 150000, 220000, 'https://hh.ru/vacancy/31987135?query=programmer%20python'], ['Full-stack разработчик Django / Python', 90000, 120000, 'https://hh.ru/vacancy/32079250?query=programmer%20python'], ['Программист Python (Middle)', 80000, 140000, 'https://hh.ru/vacancy/32190751?query=programmer%20python'], ['Программист-математик Linux (Python)', 60000, 60000, 'https://hh.ru/vacancy/32027078?query=programmer%20python']]\n"
     ]
    }
   ],
   "source": [
    "#Основной мега-цикл. \n",
    "#Отправляет настроенный линк, парсит полученную страницу, находит наименования вакансии, цену и ссылку.\n",
    "#Повторяет столько раз, сколько страниц хочется спрарсить\n",
    "vacancy_data = []\n",
    "for i in range (0,page):\n",
    "    link = f'https://hh.ru/search/vacancy?text={profession}&area=1&salary=&currency_code=RUR&only_with_salary=true&experience=doesNotMatter&order_by=relevance&search_period=&items_on_page={items_on_page}&no_magic=true&page={i}'\n",
    "    html = urllib.request.urlopen(link)\n",
    "    bytes_page = html.read()\n",
    "    str_page = bytes_page.decode(\"utf8\")\n",
    "    html.close()\n",
    "    parsed_html = bs(str_page,'lxml')\n",
    "    EUR = 72 #курс евро\n",
    "    USD = 64 #курс доллара\n",
    "    for k in range (0,items_on_page):\n",
    "        maincontent_name = parsed_html.findAll(attrs={\"class\": \"bloko-link HH-LinkModifier\"})[k]\n",
    "        maincontent_money = parsed_html.findAll(attrs={\"class\": \"vacancy-serp-item__compensation\"})[k]\n",
    "        vacancy_link = maincontent_name[\"href\"]\n",
    "        vacancy_name = maincontent_name.string\n",
    "        vacancy_money_dirty = maincontent_money.string\n",
    "        vacancy_money_clean = vacancy_money_dirty.replace(\"\\xa0\",\"\").replace(\"от \",\"\").replace(\"до\",\"\")\n",
    "        if vacancy_money_clean.find('-')==-1:\n",
    "            vacancy_money_min = vacancy_money_clean\n",
    "            if vacancy_money_min.find(\"руб.\")!=-1:\n",
    "                vacancy_money_min=int(vacancy_money_min.replace(\"руб.\",\"\"))\n",
    "            elif vacancy_money_min.find(\"руб.\")==-1 and vacancy_money_min.find(\"EUR\")!=-1:\n",
    "                vacancy_money_min=vacancy_money_min.replace(\"EUR\",\"\")\n",
    "                vacancy_money_min=vacancy_money_min*EUR\n",
    "            elif vacancy_money_min.find(\"руб.\")==-1 and vacancy_money_min.find(\"USD\")!=-1:\n",
    "                vacancy_money_min=vacancy_money_min.replace(\"USD\",\"\")\n",
    "                vacancy_money_min=int(vacancy_money_min)*USD\n",
    "            vacancy_money_max=vacancy_money_min\n",
    "        else:\n",
    "            vacancy_money_min = int(vacancy_money_clean[0: int(vacancy_money_clean.find('-'))])\n",
    "            vacancy_money_max = vacancy_money_clean[int(vacancy_money_clean.find('-'))+1:]\n",
    "            if vacancy_money_max.find(\"руб.\")!=-1:\n",
    "                vacancy_money_max=int(vacancy_money_max.replace(\"руб.\",\"\"))\n",
    "            elif vacancy_money_max.find(\"руб.\")==-1 and vacancy_money_max.find(\"EUR\")!=-1:\n",
    "                vacancy_money_max=int(vacancy_money_max.replace(\"EUR\",\"\"))\n",
    "                vacancy_money_max=vacancy_money_max*EUR\n",
    "                vacancy_money_min=vacancy_money_min*EUR\n",
    "            elif vacancy_money_max.find(\"руб.\")==-1 and vacancy_money_max.find(\"USD\")!=-1:\n",
    "                vacancy_money_max=int(vacancy_money_max.replace(\"USD\",\"\"))\n",
    "                vacancy_money_max=vacancy_money_max*USD\n",
    "                vacancy_money_min=vacancy_money_min*USD\n",
    "        vacancy_data_page = [vacancy_name, vacancy_money_min,vacancy_money_max, vacancy_link]\n",
    "        vacancy_data.append(vacancy_data_page)"
   ]
  },
  {
   "cell_type": "code",
   "execution_count": 221,
   "metadata": {},
   "outputs": [],
   "source": [
    "#Создаем Коллекцию вакансий в базе данных\n",
    "\n",
    "client = MongoClient()\n",
    "db = client.HH\n",
    "vacancies = db.vacancies"
   ]
  },
  {
   "cell_type": "code",
   "execution_count": 222,
   "metadata": {},
   "outputs": [
    {
     "data": {
      "text/plain": [
       "'vacancy_id_1'"
      ]
     },
     "execution_count": 222,
     "metadata": {},
     "output_type": "execute_result"
    }
   ],
   "source": [
    "#Вводим индекс - защиту от повторений\n",
    "vacancies.create_index([('vacancy_id', pymongo.ASCENDING)], unique=True)"
   ]
  },
  {
   "cell_type": "code",
   "execution_count": 223,
   "metadata": {},
   "outputs": [],
   "source": [
    "#Создаем mongo-DB коллекцию с документами-вакансиями. id = id вакансии на сайте.\n",
    "#Если вакансия уже есть - предупреждаем об этом \n",
    "\n",
    "for l in range (0,len(vacancy_data)):\n",
    "    try:\n",
    "        vacancy = {'vacancy_id': vacancy_data[l][3][22:vacancy_data[l][3].find(\"?\")],\n",
    "                   \"vacancy_name\":vacancy_data[l][0],\n",
    "                      \"vacancy_money_min\":vacancy_data[l][1],\n",
    "                      \"vacancy_money_max\":vacancy_data[l][2],\n",
    "                      \"vacancy_link\":vacancy_data[l][3]}\n",
    "        vacancies.insert_one(vacancy)\n",
    "    except pymongo.errors.DuplicateKeyError:\n",
    "        print (\"Такая запись уже существует\")"
   ]
  },
  {
   "cell_type": "code",
   "execution_count": 224,
   "metadata": {},
   "outputs": [
    {
     "name": "stdout",
     "output_type": "stream",
     "text": [
      "Вакансия с максимальной зарплатой {'_id': ObjectId('5d25b942c2e33a8f5f8048e9'), 'vacancy_id': '32096105', 'vacancy_name': 'Python Web Developer', 'vacancy_money_min': 200000, 'vacancy_money_max': 300000, 'vacancy_link': 'https://hh.ru/vacancy/32096105?query=programmer%20python'}\n"
     ]
    }
   ],
   "source": [
    "#Вакансия с максимальной зарплатой\n",
    "\n",
    "max_money = vacancies.find().sort(\"vacancy_money_max\",-1).limit(1)\n",
    "for i in max_money:\n",
    "    print(\"Вакансия с максимальной зарплатой\",i)"
   ]
  },
  {
   "cell_type": "code",
   "execution_count": 225,
   "metadata": {},
   "outputs": [
    {
     "name": "stdout",
     "output_type": "stream",
     "text": [
      "Введите желаемую сумму в рублях. Вакансии с зарплатой ниже введенной отображаться не будут 200000\n",
      "Вакансия с максимальной зарплатой выше 200000 рублей\n",
      "{'_id': ObjectId('5d25b942c2e33a8f5f8048e9'), 'vacancy_id': '32096105', 'vacancy_name': 'Python Web Developer', 'vacancy_money_min': 200000, 'vacancy_money_max': 300000, 'vacancy_link': 'https://hh.ru/vacancy/32096105?query=programmer%20python'}\n",
      "{'_id': ObjectId('5d25b942c2e33a8f5f8048eb'), 'vacancy_id': '32108917', 'vacancy_name': 'Senior Back-End Developer (PHP)', 'vacancy_money_min': 210000, 'vacancy_money_max': 250000, 'vacancy_link': 'https://hh.ru/vacancy/32108917?query=programmer%20python'}\n",
      "{'_id': ObjectId('5d25b942c2e33a8f5f8048ec'), 'vacancy_id': '32072763', 'vacancy_name': 'Python Developer', 'vacancy_money_min': 160000, 'vacancy_money_max': 250000, 'vacancy_link': 'https://hh.ru/vacancy/32072763?query=programmer%20python'}\n",
      "{'_id': ObjectId('5d25b942c2e33a8f5f8048ef'), 'vacancy_id': '31844761', 'vacancy_name': 'Разработчик Python/Django + React.js', 'vacancy_money_min': 145000, 'vacancy_money_max': 255000, 'vacancy_link': 'https://hh.ru/vacancy/31844761?query=programmer%20python'}\n",
      "{'_id': ObjectId('5d25b942c2e33a8f5f8048f4'), 'vacancy_id': '32079548', 'vacancy_name': 'Программист Python (в Ригу)', 'vacancy_money_min': 144000, 'vacancy_money_max': 216000, 'vacancy_link': 'https://hh.ru/vacancy/32079548?query=programmer%20python'}\n",
      "{'_id': ObjectId('5d25b942c2e33a8f5f8048f5'), 'vacancy_id': '32342494', 'vacancy_name': 'Senior Vue.js Front-end Developer', 'vacancy_money_min': 180000, 'vacancy_money_max': 230000, 'vacancy_link': 'https://hh.ru/vacancy/32342494?query=programmer%20python'}\n",
      "{'_id': ObjectId('5d25b942c2e33a8f5f8048f7'), 'vacancy_id': '32061372', 'vacancy_name': 'Ведущий Python разработчик', 'vacancy_money_min': 150000, 'vacancy_money_max': 250000, 'vacancy_link': 'https://hh.ru/vacancy/32061372?query=programmer%20python'}\n",
      "{'_id': ObjectId('5d25b942c2e33a8f5f8048fa'), 'vacancy_id': '32152220', 'vacancy_name': 'Senior Python developer (Cloud Services)', 'vacancy_money_min': 180000, 'vacancy_money_max': 230000, 'vacancy_link': 'https://hh.ru/vacancy/32152220?query=programmer%20python'}\n",
      "{'_id': ObjectId('5d25b942c2e33a8f5f804903'), 'vacancy_id': '30005963', 'vacancy_name': 'Python developer (Библиотеки для автотестирования)', 'vacancy_money_min': 256000, 'vacancy_money_max': 256000, 'vacancy_link': 'https://hh.ru/vacancy/30005963?query=programmer%20python'}\n",
      "{'_id': ObjectId('5d25b942c2e33a8f5f804908'), 'vacancy_id': '31952519', 'vacancy_name': 'Python developer (Cloud Services)', 'vacancy_money_min': 150000, 'vacancy_money_max': 230000, 'vacancy_link': 'https://hh.ru/vacancy/31952519?query=programmer%20python'}\n",
      "{'_id': ObjectId('5d25b942c2e33a8f5f804909'), 'vacancy_id': '31987135', 'vacancy_name': 'Senior Python Developer', 'vacancy_money_min': 150000, 'vacancy_money_max': 220000, 'vacancy_link': 'https://hh.ru/vacancy/31987135?query=programmer%20python'}\n"
     ]
    }
   ],
   "source": [
    "#Вакансии с зарплатой выше вводимой\n",
    "\n",
    "ambitions = int(input(\"Введите желаемую сумму в рублях. Вакансии с зарплатой ниже введенной отображаться не будут \"))\n",
    "greater_money = vacancies.find({\"vacancy_money_max\":{\"$gt\": ambitions}})\n",
    "print(f\"Вакансия с максимальной зарплатой выше {ambitions} рублей\")\n",
    "for i in greater_money:\n",
    "    print(i)\n",
    "    "
   ]
  }
 ],
 "metadata": {
  "kernelspec": {
   "display_name": "Python 3",
   "language": "python",
   "name": "python3"
  },
  "language_info": {
   "codemirror_mode": {
    "name": "ipython",
    "version": 3
   },
   "file_extension": ".py",
   "mimetype": "text/x-python",
   "name": "python",
   "nbconvert_exporter": "python",
   "pygments_lexer": "ipython3",
   "version": "3.7.3"
  }
 },
 "nbformat": 4,
 "nbformat_minor": 2
}
