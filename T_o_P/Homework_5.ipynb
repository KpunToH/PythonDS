{
 "cells": [
  {
   "cell_type": "code",
   "execution_count": 3,
   "metadata": {},
   "outputs": [],
   "source": [
    "import numpy as np"
   ]
  },
  {
   "cell_type": "markdown",
   "metadata": {},
   "source": [
    "Таблица t-критерия http://old.exponenta.ru/educat/referat/xikonkurs/student5/tabt-st.pdf"
   ]
  },
  {
   "cell_type": "markdown",
   "metadata": {},
   "source": [
    "Таблица Лапласа http://kvm.gubkin.ru/pub/fan/laplasetable2.pdf"
   ]
  },
  {
   "cell_type": "markdown",
   "metadata": {},
   "source": [
    "# Задание 1"
   ]
  },
  {
   "cell_type": "markdown",
   "metadata": {},
   "source": [
    "Известно, что генеральная совокупность распределена нормально\n",
    "со средним квадратическим отклонением, равным 16.\n",
    "Найти доверительный интервал для оценки математического ожидания a с надежностью 0.95,\n",
    "если выборочная средняя M = 80, а объем выборки n = 256."
   ]
  },
  {
   "cell_type": "markdown",
   "metadata": {},
   "source": [
    "$$T_{1,2} = \\overline{X} \\pm \\frac{s_0}{\\sqrt{n}} \\cdot c_{\\gamma}$$"
   ]
  },
  {
   "cell_type": "code",
   "execution_count": 7,
   "metadata": {},
   "outputs": [
    {
     "name": "stdout",
     "output_type": "stream",
     "text": [
      "Доверительный интвервал T(78.0278588,81.9721412)\n"
     ]
    }
   ],
   "source": [
    "M = 80\n",
    "M_std = 16\n",
    "n = 256\n",
    "t = 1.9721412 #взят из таблицы\n",
    "\n",
    "T1 = M - (M_std/np.sqrt(n))*t\n",
    "T2 = M + (M_std/np.sqrt(n))*t\n",
    "\n",
    "print (f\"Доверительный интвервал T({T1},{T2})\")"
   ]
  },
  {
   "cell_type": "markdown",
   "metadata": {},
   "source": [
    "# Задание 2"
   ]
  },
  {
   "cell_type": "markdown",
   "metadata": {},
   "source": [
    "В результате 10 независимых измерений некоторой величины X, выполненных с одинаковой точностью,\n",
    "получены опытные данные:\n",
    "6.9, 6.1, 6.2, 6.8, 7.5, 6.3, 6.4, 6.9, 6.7, 6.1\n",
    "Предполагая, что результаты измерений подчинены нормальному закону распределения вероятностей,\n",
    "оценить истинное значение величины X при помощи доверительного интервала, покрывающего это\n",
    "значение с доверительной вероятностью 0,95."
   ]
  },
  {
   "cell_type": "code",
   "execution_count": 21,
   "metadata": {},
   "outputs": [
    {
     "name": "stdout",
     "output_type": "stream",
     "text": [
      "Доверительный интвервал T(6.288665322114748,6.891334677885253)\n"
     ]
    }
   ],
   "source": [
    "X = [6.9, 6.1, 6.2, 6.8, 7.5, 6.3, 6.4, 6.9, 6.7, 6.1]\n",
    "X_mean = np.mean(X)\n",
    "X_std = np.std(X)\n",
    "X_n = len(X)\n",
    "X_t = 2.2281389 #взят из таблицы\n",
    "\n",
    "X_T1 = X_mean - (X_std/np.sqrt(X_n))*X_t\n",
    "X_T2 = X_mean + (X_std/np.sqrt(X_n))*X_t\n",
    "print (f\"Доверительный интвервал T({X_T1},{X_T2})\")"
   ]
  },
  {
   "cell_type": "markdown",
   "metadata": {},
   "source": [
    "# Задание 3"
   ]
  },
  {
   "cell_type": "markdown",
   "metadata": {},
   "source": [
    "Утверждается, что шарики для подшипников, изготовленные автоматическим станком, имеют средний диаметр 17 мм.\n",
    "Используя односторонний критерий с α=0,05, проверить эту гипотезу, если в выборке из n=100 шариков средний диаметр\n",
    "оказался равным 17.5 мм, а дисперсия известна и равна 4 мм."
   ]
  },
  {
   "cell_type": "code",
   "execution_count": 46,
   "metadata": {},
   "outputs": [
    {
     "name": "stdout",
     "output_type": "stream",
     "text": [
      "Доверительный интвервал T(17.1032057,17.8967943)\n",
      " Т.к 17мм не входит в доверительный интервал - При заданном критерии верна гипотеза H1\n"
     ]
    }
   ],
   "source": [
    "H0: M=17\n",
    "H1: M>17\n",
    "S_mean = 17.5\n",
    "S_var = 4\n",
    "S_n = 100\n",
    "S_t = 1.9839715 #взят из таблицы\n",
    "\n",
    "S_T1 = S_mean - (np.sqrt(S_var)/np.sqrt(S_n))*S_t\n",
    "S_T2 = S_mean + (np.sqrt(S_var)/np.sqrt(S_n))*S_t\n",
    "\n",
    "print (f\"Доверительный интвервал T({S_T1},{S_T2})\")\n",
    "print (f\" Т.к 17мм не входит в доверительный интервал - При заданном критерии верна гипотеза H1\")"
   ]
  },
  {
   "cell_type": "markdown",
   "metadata": {},
   "source": [
    "### второй вариант решения"
   ]
  },
  {
   "cell_type": "code",
   "execution_count": 36,
   "metadata": {},
   "outputs": [
    {
     "data": {
      "text/plain": [
       "0.45"
      ]
     },
     "execution_count": 36,
     "metadata": {},
     "output_type": "execute_result"
    }
   ],
   "source": [
    "alpha = 0.05\n",
    "F = (1 -2*alpha)/2\n",
    "F"
   ]
  },
  {
   "cell_type": "code",
   "execution_count": 40,
   "metadata": {},
   "outputs": [],
   "source": [
    "tabl_criteria =1,645 "
   ]
  },
  {
   "cell_type": "code",
   "execution_count": 47,
   "metadata": {},
   "outputs": [
    {
     "data": {
      "text/plain": [
       "2.5"
      ]
     },
     "execution_count": 47,
     "metadata": {},
     "output_type": "execute_result"
    }
   ],
   "source": [
    "S_nabl = ((S_mean-17)/np.sqrt(S_var))*(np.sqrt(S_n))\n",
    "S_nabl"
   ]
  },
  {
   "cell_type": "code",
   "execution_count": 48,
   "metadata": {},
   "outputs": [
    {
     "name": "stdout",
     "output_type": "stream",
     "text": [
      "Так как наблюдаемое отклонение больше критического, нужно отвергуть гипотезу H0 и принять H1\n"
     ]
    }
   ],
   "source": [
    "print (\"Так как наблюдаемое отклонение больше критического, нужно отвергуть гипотезу H0 и принять H1\")"
   ]
  },
  {
   "cell_type": "markdown",
   "metadata": {},
   "source": [
    "# Задание 4"
   ]
  },
  {
   "cell_type": "markdown",
   "metadata": {},
   "source": [
    "Продавец утверждает, что средний вес пачки печенья составляет 200 г.\n",
    "Из партии извлечена выборка из 10 пачек. Вес каждой пачки составляет:\n",
    "202, 203, 199, 197, 195, 201, 200, 204, 194, 190.\n",
    "Известно, что их веса распределены нормально.\n",
    "Верно ли утверждение продавца, если учитывать, что доверительная вероятность равна 99%?"
   ]
  },
  {
   "cell_type": "code",
   "execution_count": 31,
   "metadata": {},
   "outputs": [
    {
     "name": "stdout",
     "output_type": "stream",
     "text": [
      "Доверительный интвервал T(194.26572831967138,202.73427168032862)\n",
      "200 г. входит в заданный доверительный интервал - при таком критерии нет причин не верить продавцу\n"
     ]
    }
   ],
   "source": [
    "P =  [202, 203, 199, 197, 195, 201, 200, 204, 194, 190]\n",
    "P_mean = np.mean(P)\n",
    "P_std = np.std(P)\n",
    "P_n = len(P)\n",
    "P_t = 3.1692727 #взят из таблицы\n",
    "\n",
    "P_T1 = P_mean - (P_std/np.sqrt(P_n))*P_t\n",
    "P_T2 = P_mean + (P_std/np.sqrt(P_n))*P_t\n",
    "\n",
    "print (f\"Доверительный интвервал T({P_T1},{P_T2})\")\n",
    "print (\"200 г. входит в заданный доверительный интервал - при таком критерии нет причин не верить продавцу\")"
   ]
  }
 ],
 "metadata": {
  "kernelspec": {
   "display_name": "Python 3",
   "language": "python",
   "name": "python3"
  },
  "language_info": {
   "codemirror_mode": {
    "name": "ipython",
    "version": 3
   },
   "file_extension": ".py",
   "mimetype": "text/x-python",
   "name": "python",
   "nbconvert_exporter": "python",
   "pygments_lexer": "ipython3",
   "version": "3.7.1"
  }
 },
 "nbformat": 4,
 "nbformat_minor": 2
}
