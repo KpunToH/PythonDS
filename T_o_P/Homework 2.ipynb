{
 "cells": [
  {
   "cell_type": "code",
   "execution_count": 1,
   "metadata": {},
   "outputs": [],
   "source": [
    "import numpy as np"
   ]
  },
  {
   "cell_type": "markdown",
   "metadata": {},
   "source": [
    "Формула Бернули"
   ]
  },
  {
   "cell_type": "code",
   "execution_count": 8,
   "metadata": {},
   "outputs": [],
   "source": [
    "def bernuli():\n",
    "    n = int(input(\"Количество испытаний \"))\n",
    "    p = float(input(\"Вероятность события \"))\n",
    "    k = int(input(\"Количество испытаний с наступлением события \"))\n",
    "    P = (np.math.factorial(n)/(np.math.factorial(k)*np.math.factorial(n-k)))*(p**k)*((1-p)**(n-k))\n",
    "    print(f\"Вероятность такого события = {P}\")"
   ]
  },
  {
   "cell_type": "markdown",
   "metadata": {},
   "source": [
    "Распределение Пуассона"
   ]
  },
  {
   "cell_type": "code",
   "execution_count": 17,
   "metadata": {},
   "outputs": [],
   "source": [
    "def puasson():\n",
    "    n = int(input(\"Количество испытаний \"))\n",
    "    p = float(input(\"Вероятность события \"))\n",
    "    m = int(input(\"Количество испытаний с наступлением события \"))\n",
    "    P = (((n*p)**m)/np.math.factorial(m))*(np.e**(-(n*p)))\n",
    "    print(f\"Вероятность такого события приблизительно = {P}\")"
   ]
  },
  {
   "cell_type": "markdown",
   "metadata": {},
   "source": [
    "# Задание 1"
   ]
  },
  {
   "cell_type": "markdown",
   "metadata": {},
   "source": [
    "Вероятность того, что стрелок попадет в мишень, выстрелив один раз, равна 0.8. Стрелок выстрелил 100 раз. Найдите вероятность того, что стрелок попадет в цель ровно 85 раз\n"
   ]
  },
  {
   "cell_type": "code",
   "execution_count": 9,
   "metadata": {},
   "outputs": [
    {
     "name": "stdout",
     "output_type": "stream",
     "text": [
      "Количество испытаний 100\n",
      "Вероятность события 0.8\n",
      "Количество испытаний с наступлением события 85\n",
      "Вероятность такого события = 0.048061793700746355\n"
     ]
    }
   ],
   "source": [
    "bernuli()"
   ]
  },
  {
   "cell_type": "markdown",
   "metadata": {},
   "source": [
    "# Задание 2"
   ]
  },
  {
   "cell_type": "markdown",
   "metadata": {},
   "source": [
    "Вероятность того, что лампочка перегорит в течение первого дня эксплуатации, равна 0.0004. В жилом комплексе после ремонта в один день включили 5000 новых лампочек. Какова вероятность, что ни одна из них не перегорит в первый день? "
   ]
  },
  {
   "cell_type": "code",
   "execution_count": 18,
   "metadata": {},
   "outputs": [
    {
     "name": "stdout",
     "output_type": "stream",
     "text": [
      "Количество испытаний 5000\n",
      "Вероятность события 0.0004\n",
      "Количество испытаний с наступлением события 0\n",
      "Вероятность такого события приблизительно = 0.1353352832366127\n"
     ]
    }
   ],
   "source": [
    "puasson()"
   ]
  },
  {
   "cell_type": "markdown",
   "metadata": {},
   "source": [
    "Какова вероятность, что перегорят ровно две?"
   ]
  },
  {
   "cell_type": "code",
   "execution_count": 19,
   "metadata": {},
   "outputs": [
    {
     "name": "stdout",
     "output_type": "stream",
     "text": [
      "Количество испытаний 5000\n",
      "Вероятность события 0.0004\n",
      "Количество испытаний с наступлением события 2\n",
      "Вероятность такого события приблизительно = 0.2706705664732254\n"
     ]
    }
   ],
   "source": [
    "puasson()"
   ]
  },
  {
   "cell_type": "markdown",
   "metadata": {},
   "source": [
    "# Задание 3"
   ]
  },
  {
   "cell_type": "markdown",
   "metadata": {},
   "source": [
    "Монету подбросили 144 раза. Какова вероятность, что орел выпадет ровно 70 раз"
   ]
  },
  {
   "cell_type": "code",
   "execution_count": 21,
   "metadata": {},
   "outputs": [
    {
     "name": "stdout",
     "output_type": "stream",
     "text": [
      "Количество испытаний 144\n",
      "Вероятность события 0.5\n",
      "Количество испытаний с наступлением события 70\n",
      "Вероятность такого события = 0.06281178035144776\n"
     ]
    }
   ],
   "source": [
    "bernuli()"
   ]
  },
  {
   "cell_type": "markdown",
   "metadata": {},
   "source": [
    "# Задание 4"
   ]
  },
  {
   "cell_type": "markdown",
   "metadata": {},
   "source": [
    "В первом ящике находится 10 мячей, из которых 7 - белые. Во втором ящике - 11 мячей, из которых 9 белых. Из каждого ящика вытаскивают случайным образом по два мяча. "
   ]
  },
  {
   "cell_type": "markdown",
   "metadata": {},
   "source": [
    "### Какова вероятность того, что все мячи белые?"
   ]
  },
  {
   "cell_type": "code",
   "execution_count": 30,
   "metadata": {},
   "outputs": [
    {
     "name": "stdout",
     "output_type": "stream",
     "text": [
      "Вероятность достать оба белых шара из первого ящика 0.4666666666666667\n"
     ]
    }
   ],
   "source": [
    "P1 = (np.math.factorial(7)/(np.math.factorial(2)*np.math.factorial(7-2)))/(np.math.factorial(10)/(np.math.factorial(2)*np.math.factorial(10-2)))\n",
    "print (f\"Вероятность достать оба белых шара из первого ящика {P1}\")"
   ]
  },
  {
   "cell_type": "code",
   "execution_count": 31,
   "metadata": {},
   "outputs": [
    {
     "name": "stdout",
     "output_type": "stream",
     "text": [
      "Вероятность достать оба белых шара из второго ящика 0.6545454545454545\n"
     ]
    }
   ],
   "source": [
    "P2 = (np.math.factorial(9)/(np.math.factorial(2)*np.math.factorial(9-2)))/(np.math.factorial(11)/(np.math.factorial(2)*np.math.factorial(11-2)))\n",
    "print (f\"Вероятность достать оба белых шара из второго ящика {P2}\")"
   ]
  },
  {
   "cell_type": "code",
   "execution_count": 29,
   "metadata": {},
   "outputs": [
    {
     "name": "stdout",
     "output_type": "stream",
     "text": [
      "Вероятность того, что все мячи белые равна 0.3054545454545455\n"
     ]
    }
   ],
   "source": [
    "P = P1*P2\n",
    "print(f\"Вероятность того, что все мячи белые равна {P}\")"
   ]
  },
  {
   "cell_type": "markdown",
   "metadata": {},
   "source": [
    "### Какова вероятность того, что ровно два мяча белые?"
   ]
  },
  {
   "cell_type": "markdown",
   "metadata": {},
   "source": [
    "Это вероятность того, что достали по 1 шару белому шару из каждой из коробок + вероятность что из первой коробки достали 2 белых мяча,а их второй - 2 черных + вероятность, что из второй коробки достали 2 белых мяча,а из первой -2 черных"
   ]
  },
  {
   "cell_type": "code",
   "execution_count": 41,
   "metadata": {},
   "outputs": [
    {
     "name": "stdout",
     "output_type": "stream",
     "text": [
      "Вероятность достать 1 белый шара из первого ящика 0.4666666666666667\n"
     ]
    }
   ],
   "source": [
    "P1 = ((np.math.factorial(7)/(np.math.factorial(1)*np.math.factorial(7-1)))*(np.math.factorial(3)/(np.math.factorial(1)*np.math.factorial(3-1))))/(np.math.factorial(10)/(np.math.factorial(2)*np.math.factorial(10-2)))\n",
    "print (f\"Вероятность достать 1 белый шара из первого ящика {P1}\")"
   ]
  },
  {
   "cell_type": "code",
   "execution_count": 42,
   "metadata": {},
   "outputs": [
    {
     "name": "stdout",
     "output_type": "stream",
     "text": [
      "Вероятность достать 1 белый шара из первого ящика 0.32727272727272727\n"
     ]
    }
   ],
   "source": [
    "P2 = ((np.math.factorial(9)/(np.math.factorial(1)*np.math.factorial(9-1)))*(np.math.factorial(2)/(np.math.factorial(1)*np.math.factorial(2-1))))/(np.math.factorial(11)/(np.math.factorial(2)*np.math.factorial(11-2)))\n",
    "print (f\"Вероятность достать 1 белый шара из второго ящика {P2}\")"
   ]
  },
  {
   "cell_type": "code",
   "execution_count": 54,
   "metadata": {},
   "outputs": [
    {
     "name": "stdout",
     "output_type": "stream",
     "text": [
      "Вероятность достать по 1 белому шару из ящиков 0.15272727272727274\n"
     ]
    }
   ],
   "source": [
    "P_1_1 = P1*P2\n",
    "print (f\"Вероятность достать по 1 белому шару из ящиков {P_1_2}\")"
   ]
  },
  {
   "cell_type": "code",
   "execution_count": 48,
   "metadata": {},
   "outputs": [
    {
     "name": "stdout",
     "output_type": "stream",
     "text": [
      "Вероятность достать 2 белых из первого и 2 черных из второго 0.008484848484848484\n"
     ]
    }
   ],
   "source": [
    "P_2_0 = ((np.math.factorial(7)/(np.math.factorial(2)*np.math.factorial(7-2)))/(np.math.factorial(10)/(np.math.factorial(2)*np.math.factorial(10-2))))*((np.math.factorial(2)/(np.math.factorial(2)*np.math.factorial(2-2)))/(np.math.factorial(11)/(np.math.factorial(2)*np.math.factorial(11-2))))\n",
    "print(f\"Вероятность достать 2 белых из первого и 2 черных из второго {P_2_0}\")"
   ]
  },
  {
   "cell_type": "code",
   "execution_count": 49,
   "metadata": {},
   "outputs": [
    {
     "name": "stdout",
     "output_type": "stream",
     "text": [
      "Вероятность достать 2 белых из второго и 2 черных из первого 0.04363636363636363\n"
     ]
    }
   ],
   "source": [
    "P_0_2 = ((np.math.factorial(9)/(np.math.factorial(2)*np.math.factorial(9-2)))/(np.math.factorial(11)/(np.math.factorial(2)*np.math.factorial(11-2))))*((np.math.factorial(3)/(np.math.factorial(2)*np.math.factorial(3-2)))/(np.math.factorial(10)/(np.math.factorial(2)*np.math.factorial(10-2))))\n",
    "print(f\"Вероятность достать 2 белых из второго и 2 черных из первого {P_0_2}\")"
   ]
  },
  {
   "cell_type": "markdown",
   "metadata": {},
   "source": [
    "Далее - теореме сложения вероятностей несовместных событий"
   ]
  },
  {
   "cell_type": "code",
   "execution_count": 55,
   "metadata": {},
   "outputs": [
    {
     "name": "stdout",
     "output_type": "stream",
     "text": [
      "Вероятность, что ровно два мяча белые 0.20484848484848486\n"
     ]
    }
   ],
   "source": [
    "P = P_1_1 + P_2_0 + P_0_2\n",
    "print (f\"Вероятность, что ровно два мяча белые {P}\")"
   ]
  },
  {
   "cell_type": "markdown",
   "metadata": {},
   "source": [
    "### Какова вероятность того, что хотя бы один мяч белый?"
   ]
  },
  {
   "cell_type": "markdown",
   "metadata": {},
   "source": [
    "Решение - Перефразируем - какова вероятность, что мы не вытащим все черные шары"
   ]
  },
  {
   "cell_type": "code",
   "execution_count": 57,
   "metadata": {},
   "outputs": [
    {
     "name": "stdout",
     "output_type": "stream",
     "text": [
      "Вероятность достать оба черных шара из первого ящика 0.06666666666666667\n"
     ]
    }
   ],
   "source": [
    "P1 = (np.math.factorial(3)/(np.math.factorial(2)*np.math.factorial(3-2)))/(np.math.factorial(10)/(np.math.factorial(2)*np.math.factorial(10-2)))\n",
    "print (f\"Вероятность достать оба черных шара из первого ящика {P1}\")"
   ]
  },
  {
   "cell_type": "code",
   "execution_count": 58,
   "metadata": {},
   "outputs": [
    {
     "name": "stdout",
     "output_type": "stream",
     "text": [
      "Вероятность достать оба черных шара из второго ящика 0.01818181818181818\n"
     ]
    }
   ],
   "source": [
    "P2 = (np.math.factorial(2)/(np.math.factorial(2)*np.math.factorial(2-2)))/(np.math.factorial(11)/(np.math.factorial(2)*np.math.factorial(11-2)))\n",
    "print (f\"Вероятность достать оба черных шара из второго ящика {P2}\")"
   ]
  },
  {
   "cell_type": "code",
   "execution_count": 59,
   "metadata": {},
   "outputs": [
    {
     "name": "stdout",
     "output_type": "stream",
     "text": [
      "Вероятность достать все 4 черных шара = 0.0012121212121212121\n"
     ]
    }
   ],
   "source": [
    "P = P1*P2\n",
    "print (f\"Вероятность достать все 4 черных шара = {P}\")"
   ]
  },
  {
   "cell_type": "code",
   "execution_count": 60,
   "metadata": {},
   "outputs": [
    {
     "name": "stdout",
     "output_type": "stream",
     "text": [
      "Вероятность достать хотя бы 1 белый шар = 0.9987878787878788\n"
     ]
    }
   ],
   "source": [
    "P_white = 1-P\n",
    "print (f\"Вероятность достать хотя бы 1 белый шар = {P_white}\")"
   ]
  }
 ],
 "metadata": {
  "kernelspec": {
   "display_name": "Python 3",
   "language": "python",
   "name": "python3"
  },
  "language_info": {
   "codemirror_mode": {
    "name": "ipython",
    "version": 3
   },
   "file_extension": ".py",
   "mimetype": "text/x-python",
   "name": "python",
   "nbconvert_exporter": "python",
   "pygments_lexer": "ipython3",
   "version": "3.7.1"
  }
 },
 "nbformat": 4,
 "nbformat_minor": 2
}
