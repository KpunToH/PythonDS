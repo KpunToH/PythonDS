{
 "cells": [
  {
   "cell_type": "code",
   "execution_count": 1,
   "metadata": {},
   "outputs": [],
   "source": [
    "from bs4 import BeautifulSoup as bs\n",
    "import urllib.request\n",
    "import requests\n",
    "import pprint"
   ]
  },
  {
   "cell_type": "code",
   "execution_count": 2,
   "metadata": {},
   "outputs": [
    {
     "name": "stdout",
     "output_type": "stream",
     "text": [
      "Пожалуйста, введите желаемый язык программирования на английском python\n"
     ]
    },
    {
     "data": {
      "text/plain": [
       "'programmer+python'"
      ]
     },
     "execution_count": 2,
     "metadata": {},
     "output_type": "execute_result"
    }
   ],
   "source": [
    "#Задаем желаемые языки программирования\n",
    "profession = \"programmer+\"+(input(\"Пожалуйста, введите желаемый язык программирования на английском \").lower())\n",
    "profession "
   ]
  },
  {
   "cell_type": "code",
   "execution_count": 3,
   "metadata": {},
   "outputs": [
    {
     "name": "stdout",
     "output_type": "stream",
     "text": [
      "Введите количество страниц, которое хотим спарсить 3\n"
     ]
    }
   ],
   "source": [
    "#Задаем колличество страниц поисковой выдачи. Отобразятся только те вакансии, в которых указана зарплата\n",
    "page = int(input(\"Введите количество страниц, которое хотим спарсить \"))"
   ]
  },
  {
   "cell_type": "code",
   "execution_count": 16,
   "metadata": {},
   "outputs": [
    {
     "name": "stdout",
     "output_type": "stream",
     "text": [
      "Введите колличество вакансий на 1 странице - 20, 50 или 100 20\n"
     ]
    }
   ],
   "source": [
    "#Задаем колличество вакансий на странице\n",
    "items_on_page = int(input(\"Введите колличество вакансий на 1 странице - 20, 50 или 100 \"))"
   ]
  },
  {
   "cell_type": "code",
   "execution_count": 17,
   "metadata": {},
   "outputs": [
    {
     "name": "stdout",
     "output_type": "stream",
     "text": [
      "Data engineer (ML-разработчик, python) 100 000-140 000 руб. https://hh.ru/vacancy/32099770?query=programmer%20python\n",
      "Программист Python от 80 000 руб. https://hh.ru/vacancy/32271659?query=programmer%20python\n",
      "Senior Front-end Developer (JavaScript, React) от 200 000 руб. https://hh.ru/vacancy/32144172?query=programmer%20python\n",
      "Разработчик Python / Django от 160 000 руб. https://hh.ru/vacancy/31997075?query=programmer%20python\n",
      "Front-end Developer (JavaScript, React) от 150 000 руб. https://hh.ru/vacancy/32077832?query=programmer%20python\n",
      "Разработчик Python/Django + React.js 145 000-255 000 руб. https://hh.ru/vacancy/31844761?query=programmer%20python\n",
      "Разработчик Python 160 000-200 000 руб. https://hh.ru/vacancy/31624245?query=programmer%20python\n",
      "Python/Django разработчик 60 000-100 000 руб. https://hh.ru/vacancy/32158934?query=programmer%20python\n",
      "Python Data Scientist от 150 000 руб. https://hh.ru/vacancy/32068519?query=programmer%20python\n",
      "Ведущий Python разработчик 150 000-250 000 руб. https://hh.ru/vacancy/32061372?query=programmer%20python\n",
      "Программист Python от 150 000 руб. https://hh.ru/vacancy/32304134?query=programmer%20python\n",
      "Senior Python developer (Cloud Services) 180 000-230 000 руб. https://hh.ru/vacancy/32152220?query=programmer%20python\n",
      "Разработчик Python 150 000-200 000 руб. https://hh.ru/vacancy/31566378?query=programmer%20python\n",
      "Python developer (Библиотеки для автотестирования) от 4 000 USD https://hh.ru/vacancy/30005963?query=programmer%20python\n",
      "Python Web Developer 200 000-300 000 руб. https://hh.ru/vacancy/32096105?query=programmer%20python\n",
      "Программист Python 100 000-180 000 руб. https://hh.ru/vacancy/32139253?query=programmer%20python\n",
      "Программист Python/C++ 70 000-100 000 руб. https://hh.ru/vacancy/32309858?query=programmer%20python\n",
      "Python-разработчик до 130 000 руб. https://hh.ru/vacancy/31965654?query=programmer%20python\n",
      "C++ developer (embedded Linux) 120 000-170 000 руб. https://hh.ru/vacancy/32235565?query=programmer%20python\n",
      "Python developer (Cloud Services) 150 000-230 000 руб. https://hh.ru/vacancy/31952519?query=programmer%20python\n",
      "Senior Python Developer 150 000-220 000 руб. https://hh.ru/vacancy/31987135?query=programmer%20python\n",
      "Senior Back-End Developer (PHP) 210 000-250 000 руб. https://hh.ru/vacancy/32108917?query=programmer%20python\n",
      "Программист Python (Middle) 80 000-140 000 руб. https://hh.ru/vacancy/32190751?query=programmer%20python\n",
      "Junior Data Developer (Python) 100 000-140 000 руб. https://hh.ru/vacancy/32030586?query=programmer%20python\n",
      "Senior Vue.js Front-end Developer 180 000-230 000 руб. https://hh.ru/vacancy/31867197?query=programmer%20python\n",
      "Python Developer 160 000-250 000 руб. https://hh.ru/vacancy/32072763?query=programmer%20python\n",
      "Python Developer от 1 500 EUR https://hh.ru/vacancy/32126181?query=programmer%20python\n",
      "Software Engineer (C++ Build System) от 4 000 USD https://hh.ru/vacancy/29056936?query=programmer%20python\n",
      "Backend Python – разработчик от 100 000 руб. https://hh.ru/vacancy/32060659?query=programmer%20python\n",
      "Программист Python от 130 000 руб. https://hh.ru/vacancy/32262391?query=programmer%20python\n",
      "Программист Python 60 000-100 000 руб. https://hh.ru/vacancy/32260756?query=programmer%20python\n",
      "Разработчик Python и SQL от 180 000 руб. https://hh.ru/vacancy/31929637?query=programmer%20python\n",
      "Программист web, Django / Python 30 000-50 000 руб. https://hh.ru/vacancy/32037528?query=programmer%20python\n",
      "Разработчик Python (Middle) 130 000-165 000 руб. https://hh.ru/vacancy/31859124?query=programmer%20python\n",
      "Backend python/Django разработчик 120 000-200 000 руб. https://hh.ru/vacancy/32027484?query=programmer%20python\n",
      "Программист Python (в Ригу) 2 000-3 000 EUR https://hh.ru/vacancy/32079548?query=programmer%20python\n",
      "C++ developer - Quantum от 180 000 руб. https://hh.ru/vacancy/32119889?query=programmer%20python\n",
      "Клиентский разработчик С++ (middle), Unity (junior) 130 000-170 000 руб. https://hh.ru/vacancy/32159754?query=programmer%20python\n",
      "Middle Vue.js Front-end Developer 160 000-190 000 руб. https://hh.ru/vacancy/32075657?query=programmer%20python\n",
      "Mid/Sr Python Developer, Betmaster (relocation) 2 500-5 000 EUR https://hh.ru/vacancy/31873540?query=programmer%20python\n",
      "Ведущий разработчик Python тимлид / Python team lead от 170 000 руб. https://hh.ru/vacancy/32305403?query=programmer%20python\n",
      "Python Developer (middle) 80 000-100 000 руб. https://hh.ru/vacancy/32254171?query=programmer%20python\n",
      "Ведущий разработчик Python на платежную платформу от 200 000 руб. https://hh.ru/vacancy/32256640?query=programmer%20python\n",
      "Junior Python разработчик 40 000-60 000 руб. https://hh.ru/vacancy/32118664?query=programmer%20python\n",
      "Разработчик Python/Django 80 000-120 000 руб. https://hh.ru/vacancy/32204923?query=programmer%20python\n",
      "Python-разработчик от 100 000 руб. https://hh.ru/vacancy/32251802?query=programmer%20python\n",
      "Серверный разработчик С++ / Backend Developer C++ (middle/senior) от 170 000 руб. https://hh.ru/vacancy/32023564?query=programmer%20python\n",
      "Младший Python-разработчик 70 000-90 000 руб. https://hh.ru/vacancy/32296843?query=programmer%20python\n",
      "Full-stack разработчик (Python, JavaScript) 80 000-140 000 руб. https://hh.ru/vacancy/31557124?query=programmer%20python\n",
      "Junior/Middle Full Stack разработчик (Python) 100 000-150 000 руб. https://hh.ru/vacancy/32037475?query=programmer%20python\n",
      "Python developer/ backend разработчик от 150 000 руб. https://hh.ru/vacancy/31895113?query=programmer%20python\n",
      "Разработчик Python (Middle) 100 000-170 000 руб. https://hh.ru/vacancy/30613214?query=programmer%20python\n",
      "Программист Python (middle) 100 000-150 000 руб. https://hh.ru/vacancy/30567921?query=programmer%20python\n",
      "Back-end Python/Django developer в стартап 140 000-180 000 руб. https://hh.ru/vacancy/32218715?query=programmer%20python\n",
      "Full-stack разработчик Django / Python 90 000-120 000 руб. https://hh.ru/vacancy/32079250?query=programmer%20python\n",
      "Backend developer (Python) до 150 000 руб. https://hh.ru/vacancy/32190739?query=programmer%20python\n",
      "Программист-математик Linux (Python) от 60 000 руб. https://hh.ru/vacancy/32027078?query=programmer%20python\n",
      "Программист Python (junior) 40 000-100 000 руб. https://hh.ru/vacancy/32202286?query=programmer%20python\n",
      "Программист Python 30 000-50 000 руб. https://hh.ru/vacancy/32028527?query=programmer%20python\n",
      "Разработчик Python/Team-lead 120 000-200 000 руб. https://hh.ru/vacancy/31974215?query=programmer%20python\n"
     ]
    }
   ],
   "source": [
    "#Основной мега-цикл. \n",
    "#Отправляет настроенный линк, парсит полученную страницу, находит наименования вакансии, цену и ссылку.\n",
    "#Повторяет столько раз, сколько страниц хочется спрарсить\n",
    "for i in range (0,page):\n",
    "    link = f'https://hh.ru/search/vacancy?text={profession}&area=1&salary=&currency_code=RUR&only_with_salary=true&experience=doesNotMatter&order_by=relevance&search_period=&items_on_page={items_on_page}&no_magic=true&page={i}'\n",
    "    html = urllib.request.urlopen(link)\n",
    "    bytes_page = html.read()\n",
    "    str_page = bytes_page.decode(\"utf8\")\n",
    "    html.close()\n",
    "    parsed_html = bs(str_page,'lxml')\n",
    "    for k in range (0,items_on_page):\n",
    "        maincontent_name = parsed_html.findAll(attrs={\"class\": \"bloko-link HH-LinkModifier\"})[k]\n",
    "        maincontent_money = parsed_html.findAll(attrs={\"class\": \"vacancy-serp-item__compensation\"})[k]\n",
    "        print(maincontent_name.string,maincontent_money.string,maincontent_name[\"href\"])"
   ]
  }
 ],
 "metadata": {
  "kernelspec": {
   "display_name": "Python 3",
   "language": "python",
   "name": "python3"
  },
  "language_info": {
   "codemirror_mode": {
    "name": "ipython",
    "version": 3
   },
   "file_extension": ".py",
   "mimetype": "text/x-python",
   "name": "python",
   "nbconvert_exporter": "python",
   "pygments_lexer": "ipython3",
   "version": "3.7.3"
  }
 },
 "nbformat": 4,
 "nbformat_minor": 2
}
